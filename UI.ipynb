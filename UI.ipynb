{
 "cells": [
  {
   "cell_type": "code",
   "execution_count": 49,
   "id": "86f681c6-4f3b-4e18-a3b8-0cf80f2e4bbc",
   "metadata": {},
   "outputs": [],
   "source": [
    "import streamlit as st\n",
    "import pickle\n",
    "from keras.models import load_model"
   ]
  },
  {
   "cell_type": "code",
   "execution_count": 50,
   "id": "41a5e9f9-4875-4164-b9eb-25edd38daedc",
   "metadata": {},
   "outputs": [
    {
     "name": "stderr",
     "output_type": "stream",
     "text": [
      "2025-04-01 23:35:49.474 \n",
      "`st.cache` is deprecated and will be removed soon. Please use one of Streamlit's new caching commands, `st.cache_data` or `st.cache_resource`.\n",
      "More information [in our docs](https://docs.streamlit.io/develop/concepts/architecture/caching).\n",
      "\n",
      "**Note**: The behavior of `st.cache` was updated in Streamlit 1.36 to the new caching logic used by `st.cache_data` and `st.cache_resource`.\n",
      "This might lead to some problems or unexpected behavior in certain edge cases.\n",
      "\n"
     ]
    }
   ],
   "source": [
    "#@st.cache(allow_output_mutation=True)\n",
    "#def load_models():\n",
    "    \n",
    " #   model_rum = load_model(\"Models/brain_tumor_detection_model.h5\", compile=False)\n",
    "  #  return model_alz, model_tum"
   ]
  },
  {
   "cell_type": "code",
   "execution_count": 53,
   "id": "ece75746-a341-4e77-82fe-163767bb2bfe",
   "metadata": {},
   "outputs": [],
   "source": [
    "model = load_model(\"Models/Alzheimer_detection_model.h5\", compile=False)\n",
    "\n",
    "# Streamlit UI\n",
    "st.title(\"🖼️ Image Recognition App\")\n",
    "\n",
    "st.write(\"Upload an image, and I'll tell you what it is!\")\n",
    "\n",
    "# Image Upload\n",
    "uploaded_image = st.file_uploader(\"Choose an image...\", type=[\"jpg\", \"jpeg\", \"png\"])\n",
    "\n",
    "if uploaded_image is not None:\n",
    "    # Open and display the image\n",
    "    image = Image.open(uploaded_image)\n",
    "    st.image(image, caption='Uploaded Image.', use_column_width=True)\n",
    "\n",
    "    # Preprocess the image for MobileNetV2\n",
    "    image = image.resize((224, 224))\n",
    "    image_array = np.array(image)\n",
    "    image_array = np.expand_dims(image_array, axis=0)\n",
    "    image_array = preprocess_input(image_array)\n",
    "\n",
    "    # Make Predictions\n",
    "    predictions = model.predict(image_array)\n",
    "    decoded_predictions = decode_predictions(predictions, top=3)[0]\n",
    "\n",
    "    # Display the predictions\n",
    "    st.write(\"### Predictions:\")\n",
    "    for i, (imagenet_id, label, score) in enumerate(decoded_predictions):\n",
    "        st.write(f\"{i + 1}. **{label}** ({score * 100:.2f}%)\")"
   ]
  }
 ],
 "metadata": {
  "kernelspec": {
   "display_name": "Python [conda env:base] *",
   "language": "python",
   "name": "conda-base-py"
  },
  "language_info": {
   "codemirror_mode": {
    "name": "ipython",
    "version": 3
   },
   "file_extension": ".py",
   "mimetype": "text/x-python",
   "name": "python",
   "nbconvert_exporter": "python",
   "pygments_lexer": "ipython3",
   "version": "3.12.7"
  }
 },
 "nbformat": 4,
 "nbformat_minor": 5
}
